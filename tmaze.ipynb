{
 "cells": [
  {
   "cell_type": "code",
   "execution_count": 1,
   "metadata": {},
   "outputs": [],
   "source": [
    "import warnings\n",
    "import dreamerv3\n",
    "from dreamerv3 import embodied\n",
    "from embodied.envs import tabular_navigation\n",
    "from embodied.core.basics import convert\n",
    "import jax.numpy as jnp\n",
    "import matplotlib.pyplot as plt\n",
    "import collections\n",
    "import numpy as np\n",
    "\n",
    "# inline plotting\n",
    "%matplotlib inline\n",
    "# auto reload\n",
    "%load_ext autoreload\n",
    "%autoreload 2"
   ]
  },
  {
   "cell_type": "code",
   "execution_count": 2,
   "metadata": {},
   "outputs": [],
   "source": [
    "config = embodied.Config(dreamerv3.configs['defaults'])\n",
    "config = config.update(dreamerv3.configs['tmaze'])\n",
    "config = config.update({\n",
    "  \"logdir\": \"dreamerv3/logs/director\",\n",
    "  \"jax.jit\": True,\n",
    "  \"jax.platform\": \"cpu\",\n",
    "  \"run.steps\": 500})\n",
    "config = embodied.Flags(config).parse()\n"
   ]
  },
  {
   "cell_type": "code",
   "execution_count": 3,
   "metadata": {},
   "outputs": [
    {
     "data": {
      "text/plain": [
       "100"
      ]
     },
     "execution_count": 3,
     "metadata": {},
     "output_type": "execute_result"
    }
   ],
   "source": [
    "config.run.log_every"
   ]
  },
  {
   "cell_type": "code",
   "execution_count": 3,
   "metadata": {},
   "outputs": [],
   "source": [
    "logdir = embodied.Path(config.logdir)\n",
    "step = embodied.Counter()\n",
    "logger = embodied.Logger(step, [\n",
    "    embodied.logger.TerminalOutput(),\n",
    "    # embodied.logger.JSONLOutput(logdir, 'metrics.jsonl'),\n",
    "    # embodied.logger.TensorBoardOutput(logdir),\n",
    "    # embodied.logger.WandBOutput(logdir.name, config),\n",
    "    # embodied.logger.MLFlowOutput(logdir.name),\n",
    "])"
   ]
  },
  {
   "cell_type": "code",
   "execution_count": 4,
   "metadata": {},
   "outputs": [],
   "source": [
    "env = tabular_navigation.TabularNavigationEnv(\"tmaze\")\n",
    "env = dreamerv3.wrap_env(env, config)\n",
    "env = embodied.BatchEnv([env], parallel=False)"
   ]
  },
  {
   "cell_type": "code",
   "execution_count": 5,
   "metadata": {},
   "outputs": [
    {
     "name": "stdout",
     "output_type": "stream",
     "text": [
      "dict_keys(['reward', 'is_first', 'is_last', 'local_window', 'is_terminal', 'observation'])\n",
      "[('reward', array([0.], dtype=float32)), ('is_first', array([ True])), ('is_last', array([False])), ('is_terminal', array([False])), ('observation', array([[1., 0., 0., 0., 0., 0., 0., 0., 0., 1.]]))]\n",
      "(1, 6, 7, 1)\n"
     ]
    },
    {
     "data": {
      "image/png": "[encoded data removed]",
      "text/plain": [
       "<Figure size 640x480 with 1 Axes>"
      ]
     },
     "metadata": {},
     "output_type": "display_data"
    }
   ],
   "source": [
    "outs = env.step({'action':jnp.array([0, 0, 1, 0]).reshape(1, -1), 'reset': [False]})\n",
    "# observation is just a one-hot encoding of the state (8-dim) with a one-hot encoding\n",
    "# of the goal (2-dim) appended to it\n",
    "print(outs.keys())\n",
    "print([(k, v) for k, v in outs.items() if k != 'local_window'])\n",
    "print(outs['local_window'].shape)\n",
    "plt.imshow(outs['local_window'][0, :, :, :], cmap='gray')\n",
    "plt.show()"
   ]
  },
  {
   "cell_type": "code",
   "execution_count": 6,
   "metadata": {},
   "outputs": [
    {
     "name": "stdout",
     "output_type": "stream",
     "text": [
      "Encoder CNN shapes: {}\n",
      "Encoder MLP shapes: {'observation': (10,)}\n",
      "Decoder CNN shapes: {}\n",
      "Decoder MLP shapes: {'observation': (10,)}\n",
      "JAX devices (1): [CpuDevice(id=0)]\n",
      "Policy devices: TFRT_CPU_0\n",
      "Train devices:  TFRT_CPU_0\n",
      "Tracing train function.\n",
      "Optimizer model_opt has 88,576 variables.\n",
      "Optimizer actor_opt has 11,012 variables.\n",
      "Optimizer critic_opt has 11,141 variables.\n",
      "Optimizer critic_opt has 11,141 variables.\n"
     ]
    }
   ],
   "source": [
    "# create agent\n",
    "agent = dreamerv3.Agent(env.obs_space, env.act_space, step, config)\n",
    "replay = embodied.replay.Uniform(\n",
    "    config.batch_length, config.replay_size,)\n",
    "args = embodied.Config(\n",
    "    **config.run, logdir=config.logdir,\n",
    "    batch_steps=config.batch_size * config.batch_length)\n",
    "# clear previous checkpoints before running\n",
    "!rm -rf dreamerv3/logs/director/*"
   ]
  },
  {
   "cell_type": "code",
   "execution_count": 7,
   "metadata": {},
   "outputs": [
    {
     "name": "stdout",
     "output_type": "stream",
     "text": [
      "Logdir dreamerv3/logs/director\n",
      "Observation space:\n",
      "  reward           Space(dtype=float32, shape=(), low=-inf, high=inf)\n",
      "  is_first         Space(dtype=bool, shape=(), low=False, high=True)\n",
      "  is_last          Space(dtype=bool, shape=(), low=False, high=True)\n",
      "  is_terminal      Space(dtype=bool, shape=(), low=False, high=True)\n",
      "  local_window     Space(dtype=uint8, shape=(6, 7, 1), low=0, high=255)\n",
      "  observation      Space(dtype=float32, shape=(10,), low=-inf, high=inf)\n",
      "Action space:\n",
      "  reset            Space(dtype=bool, shape=(), low=False, high=True)\n",
      "  action           Space(dtype=float32, shape=(4,), low=0, high=1)\n",
      "Prefill train dataset.\n",
      "Episode has 12 steps and return -8.0.\n",
      "Episode has 7 steps and return 8.0.\n",
      "Episode has 12 steps and return -6.0.\n",
      "Episode has 12 steps and return -10.0.\n",
      "Episode has 12 steps and return -11.0.\n",
      "Episode has 12 steps and return -8.0.\n",
      "Episode has 12 steps and return -7.0.\n",
      "Episode has 12 steps and return -12.0.\n",
      "Episode has 12 steps and return -10.0.\n",
      "Episode has 12 steps and return -8.0.\n",
      "Episode has 12 steps and return -8.0.\n",
      "Episode has 12 steps and return -5.0.\n",
      "Episode has 12 steps and return -8.0.\n",
      "Episode has 12 steps and return -5.0.\n",
      "Episode has 12 steps and return -9.0.\n",
      "Episode has 12 steps and return -7.0.\n",
      "Episode has 12 steps and return -8.0.\n",
      "Episode has 12 steps and return -6.0.\n",
      "Episode has 12 steps and return -6.0.\n",
      "Episode has 12 steps and return -6.0.\n",
      "Episode has 12 steps and return -7.0.\n",
      "Episode has 12 steps and return -8.0.\n",
      "Episode has 12 steps and return -7.0.\n"
     ]
    },
    {
     "data": {
      "text/html": [
       "<pre style=\"white-space:pre;overflow-x:auto;line-height:normal;font-family:Menlo,'DejaVu Sans Mono',consolas,'Courier New',monospace\"><span style=\"color: #00ff00; text-decoration-color: #00ff00\">──────────────────────────────────────────────────── </span><span style=\"color: #008000; text-decoration-color: #008000; font-weight: bold\">Step </span><span style=\"color: #008000; text-decoration-color: #008000; font-weight: bold\">294</span><span style=\"color: #00ff00; text-decoration-color: #00ff00\"> ─────────────────────────────────────────────────────</span>\n",
       "</pre>\n"
      ],
      "text/plain": [
       "\u001b[92m──────────────────────────────────────────────────── \u001b[0m\u001b[1;32mStep \u001b[0m\u001b[1;32m294\u001b[0m\u001b[92m ─────────────────────────────────────────────────────\u001b[0m\n"
      ]
     },
     "metadata": {},
     "output_type": "display_data"
    },
    {
     "data": {
      "text/html": [
       "<pre style=\"white-space:pre;overflow-x:auto;line-height:normal;font-family:Menlo,'DejaVu Sans Mono',consolas,'Courier New',monospace\">episode/length <span style=\"color: #008080; text-decoration-color: #008080; font-weight: bold\">12</span> <span style=\"color: #000080; text-decoration-color: #000080\">/</span> episode/score <span style=\"color: #008080; text-decoration-color: #008080; font-weight: bold\">-7</span> <span style=\"color: #000080; text-decoration-color: #000080\">/</span> episode/sum_abs_reward <span style=\"color: #008080; text-decoration-color: #008080; font-weight: bold\">7</span> <span style=\"color: #000080; text-decoration-color: #000080\">/</span> episode/reward_rate <span style=\"color: #008080; text-decoration-color: #008080; font-weight: bold\">0.54</span>\n",
       "</pre>\n"
      ],
      "text/plain": [
       "episode/length \u001b[1;36m12\u001b[0m \u001b[34m/\u001b[0m episode/score \u001b[1;36m-7\u001b[0m \u001b[34m/\u001b[0m episode/sum_abs_reward \u001b[1;36m7\u001b[0m \u001b[34m/\u001b[0m episode/reward_rate \u001b[1;36m0.54\u001b[0m\n"
      ]
     },
     "metadata": {},
     "output_type": "display_data"
    },
    {
     "name": "stdout",
     "output_type": "stream",
     "text": [
      "\n",
      "Did not find any checkpoint.\n",
      "Writing checkpoint: dreamerv3/logs/director/checkpoint.ckpt\n",
      "Start training loop.\n",
      "Wrote checkpoint: dreamerv3/logs/director/checkpoint.ckpt\n",
      "Tracing policy function.\n",
      "Tracing policy function.\n",
      "Tracing train function.\n",
      "Tracing report function.\n",
      "Tracing report function.\n"
     ]
    },
    {
     "data": {
      "text/html": [
       "<pre style=\"white-space:pre;overflow-x:auto;line-height:normal;font-family:Menlo,'DejaVu Sans Mono',consolas,'Courier New',monospace\"><span style=\"color: #00ff00; text-decoration-color: #00ff00\">──────────────────────────────────────────────────── </span><span style=\"color: #008000; text-decoration-color: #008000; font-weight: bold\">Step </span><span style=\"color: #008000; text-decoration-color: #008000; font-weight: bold\">301</span><span style=\"color: #00ff00; text-decoration-color: #00ff00\"> ─────────────────────────────────────────────────────</span>\n",
       "</pre>\n"
      ],
      "text/plain": [
       "\u001b[92m──────────────────────────────────────────────────── \u001b[0m\u001b[1;32mStep \u001b[0m\u001b[1;32m301\u001b[0m\u001b[92m ─────────────────────────────────────────────────────\u001b[0m\n"
      ]
     },
     "metadata": {},
     "output_type": "display_data"
    },
    {
     "data": {
      "text/html": [
       "<pre style=\"white-space:pre;overflow-x:auto;line-height:normal;font-family:Menlo,'DejaVu Sans Mono',consolas,'Courier New',monospace\">train/actor_opt_actor_opt_grad_overflow <span style=\"color: #008080; text-decoration-color: #008080; font-weight: bold\">0</span> <span style=\"color: #000080; text-decoration-color: #000080\">/</span> train/actor_opt_actor_opt_grad_scale <span style=\"color: #008080; text-decoration-color: #008080; font-weight: bold\">1e4</span> <span style=\"color: #000080; text-decoration-color: #000080\">/</span> train/actor_opt_grad_norm \n",
       "<span style=\"color: #008080; text-decoration-color: #008080; font-weight: bold\">8.8e-5</span> <span style=\"color: #000080; text-decoration-color: #000080\">/</span> train/actor_opt_grad_steps <span style=\"color: #008080; text-decoration-color: #008080; font-weight: bold\">1</span> <span style=\"color: #000080; text-decoration-color: #000080\">/</span> train/actor_opt_loss <span style=\"color: #008080; text-decoration-color: #008080; font-weight: bold\">-1.56</span> <span style=\"color: #000080; text-decoration-color: #000080\">/</span> train/cont_avg <span style=\"color: #008080; text-decoration-color: #008080; font-weight: bold\">0.92</span> <span style=\"color: #000080; text-decoration-color: #000080\">/</span> train/cont_loss_mean \n",
       "<span style=\"color: #008080; text-decoration-color: #008080; font-weight: bold\">0.58</span> <span style=\"color: #000080; text-decoration-color: #000080\">/</span> train/cont_loss_std <span style=\"color: #008080; text-decoration-color: #008080; font-weight: bold\">0.31</span> <span style=\"color: #000080; text-decoration-color: #000080\">/</span> train/cont_neg_acc <span style=\"color: #008080; text-decoration-color: #008080; font-weight: bold\">0.25</span> <span style=\"color: #000080; text-decoration-color: #000080\">/</span> train/cont_neg_loss <span style=\"color: #008080; text-decoration-color: #008080; font-weight: bold\">1.12</span> <span style=\"color: #000080; text-decoration-color: #000080\">/</span> train/cont_pos_acc <span style=\"color: #008080; text-decoration-color: #008080; font-weight: bold\">0.77</span> <span style=\"color: #000080; text-decoration-color: #000080\">/</span> \n",
       "train/cont_pos_loss <span style=\"color: #008080; text-decoration-color: #008080; font-weight: bold\">0.53</span> <span style=\"color: #000080; text-decoration-color: #000080\">/</span> train/cont_pred <span style=\"color: #008080; text-decoration-color: #008080; font-weight: bold\">0.61</span> <span style=\"color: #000080; text-decoration-color: #000080\">/</span> train/cont_rate <span style=\"color: #008080; text-decoration-color: #008080; font-weight: bold\">0.92</span> <span style=\"color: #000080; text-decoration-color: #000080\">/</span> train/dyn_loss_mean <span style=\"color: #008080; text-decoration-color: #008080; font-weight: bold\">2.65</span> <span style=\"color: #000080; text-decoration-color: #000080\">/</span> \n",
       "train/dyn_loss_std <span style=\"color: #008080; text-decoration-color: #008080; font-weight: bold\">0.38</span> <span style=\"color: #000080; text-decoration-color: #000080\">/</span> train/expl_manager-critic_critic_opt_critic_opt_grad_overflow <span style=\"color: #008080; text-decoration-color: #008080; font-weight: bold\">0</span> <span style=\"color: #000080; text-decoration-color: #000080\">/</span> \n",
       "train/expl_manager-critic_critic_opt_critic_opt_grad_scale <span style=\"color: #008080; text-decoration-color: #008080; font-weight: bold\">1e4</span> <span style=\"color: #000080; text-decoration-color: #000080\">/</span> train/expl_manager-critic_critic_opt_grad_norm \n",
       "<span style=\"color: #008080; text-decoration-color: #008080; font-weight: bold\">2.71</span> <span style=\"color: #000080; text-decoration-color: #000080\">/</span> train/expl_manager-critic_critic_opt_grad_steps <span style=\"color: #008080; text-decoration-color: #008080; font-weight: bold\">1</span> <span style=\"color: #000080; text-decoration-color: #000080\">/</span> train/expl_manager-critic_critic_opt_loss <span style=\"color: #008080; text-decoration-color: #008080; font-weight: bold\">1.4e4</span> <span style=\"color: #000080; text-decoration-color: #000080\">/</span> \n",
       "train/expl_manager-critic_mag <span style=\"color: #008080; text-decoration-color: #008080; font-weight: bold\">0</span> <span style=\"color: #000080; text-decoration-color: #000080\">/</span> train/expl_manager-critic_max <span style=\"color: #008080; text-decoration-color: #008080; font-weight: bold\">0</span> <span style=\"color: #000080; text-decoration-color: #000080\">/</span> train/expl_manager-critic_mean <span style=\"color: #008080; text-decoration-color: #008080; font-weight: bold\">0</span> <span style=\"color: #000080; text-decoration-color: #000080\">/</span> \n",
       "train/expl_manager-critic_min <span style=\"color: #008080; text-decoration-color: #008080; font-weight: bold\">0</span> <span style=\"color: #000080; text-decoration-color: #000080\">/</span> train/expl_manager-critic_std <span style=\"color: #008080; text-decoration-color: #008080; font-weight: bold\">0</span> <span style=\"color: #000080; text-decoration-color: #000080\">/</span> \n",
       "train/extr_manager-critic_critic_opt_critic_opt_grad_overflow <span style=\"color: #008080; text-decoration-color: #008080; font-weight: bold\">0</span> <span style=\"color: #000080; text-decoration-color: #000080\">/</span> \n",
       "train/extr_manager-critic_critic_opt_critic_opt_grad_scale <span style=\"color: #008080; text-decoration-color: #008080; font-weight: bold\">1e4</span> <span style=\"color: #000080; text-decoration-color: #000080\">/</span> train/extr_manager-critic_critic_opt_grad_norm \n",
       "<span style=\"color: #008080; text-decoration-color: #008080; font-weight: bold\">2.74</span> <span style=\"color: #000080; text-decoration-color: #000080\">/</span> train/extr_manager-critic_critic_opt_grad_steps <span style=\"color: #008080; text-decoration-color: #008080; font-weight: bold\">1</span> <span style=\"color: #000080; text-decoration-color: #000080\">/</span> train/extr_manager-critic_critic_opt_loss <span style=\"color: #008080; text-decoration-color: #008080; font-weight: bold\">1.4e4</span> <span style=\"color: #000080; text-decoration-color: #000080\">/</span> \n",
       "train/extr_manager-critic_mag <span style=\"color: #008080; text-decoration-color: #008080; font-weight: bold\">0</span> <span style=\"color: #000080; text-decoration-color: #000080\">/</span> train/extr_manager-critic_max <span style=\"color: #008080; text-decoration-color: #008080; font-weight: bold\">0</span> <span style=\"color: #000080; text-decoration-color: #000080\">/</span> train/extr_manager-critic_mean <span style=\"color: #008080; text-decoration-color: #008080; font-weight: bold\">0</span> <span style=\"color: #000080; text-decoration-color: #000080\">/</span> \n",
       "train/extr_manager-critic_min <span style=\"color: #008080; text-decoration-color: #008080; font-weight: bold\">0</span> <span style=\"color: #000080; text-decoration-color: #000080\">/</span> train/extr_manager-critic_std <span style=\"color: #008080; text-decoration-color: #008080; font-weight: bold\">0</span> <span style=\"color: #000080; text-decoration-color: #000080\">/</span> train/manager_action_mag <span style=\"color: #008080; text-decoration-color: #008080; font-weight: bold\">0</span> <span style=\"color: #000080; text-decoration-color: #000080\">/</span> \n",
       "train/manager_action_max <span style=\"color: #008080; text-decoration-color: #008080; font-weight: bold\">0</span> <span style=\"color: #000080; text-decoration-color: #000080\">/</span> train/manager_action_mean <span style=\"color: #008080; text-decoration-color: #008080; font-weight: bold\">0</span> <span style=\"color: #000080; text-decoration-color: #000080\">/</span> train/manager_action_min <span style=\"color: #008080; text-decoration-color: #008080; font-weight: bold\">0</span> <span style=\"color: #000080; text-decoration-color: #000080\">/</span> train/manager_action_std <span style=\"color: #008080; text-decoration-color: #008080; font-weight: bold\">0</span> \n",
       "<span style=\"color: #000080; text-decoration-color: #000080\">/</span> train/manager_actor_opt_loss <span style=\"color: #008080; text-decoration-color: #008080; font-weight: bold\">-1.56</span> <span style=\"color: #000080; text-decoration-color: #000080\">/</span> train/manager_adv_mag <span style=\"color: #008080; text-decoration-color: #008080; font-weight: bold\">0.19</span> <span style=\"color: #000080; text-decoration-color: #000080\">/</span> train/manager_adv_max <span style=\"color: #008080; text-decoration-color: #008080; font-weight: bold\">0.19</span> <span style=\"color: #000080; text-decoration-color: #000080\">/</span> \n",
       "train/manager_adv_mean <span style=\"color: #008080; text-decoration-color: #008080; font-weight: bold\">0.06</span> <span style=\"color: #000080; text-decoration-color: #000080\">/</span> train/manager_adv_min <span style=\"color: #008080; text-decoration-color: #008080; font-weight: bold\">0</span> <span style=\"color: #000080; text-decoration-color: #000080\">/</span> train/manager_adv_std <span style=\"color: #008080; text-decoration-color: #008080; font-weight: bold\">0.04</span> <span style=\"color: #000080; text-decoration-color: #000080\">/</span> \n",
       "train/manager_expl_return_normed_mag <span style=\"color: #008080; text-decoration-color: #008080; font-weight: bold\">2.13</span> <span style=\"color: #000080; text-decoration-color: #000080\">/</span> train/manager_expl_return_normed_max <span style=\"color: #008080; text-decoration-color: #008080; font-weight: bold\">2.13</span> <span style=\"color: #000080; text-decoration-color: #000080\">/</span> \n",
       "train/manager_expl_return_normed_mean <span style=\"color: #008080; text-decoration-color: #008080; font-weight: bold\">0.68</span> <span style=\"color: #000080; text-decoration-color: #000080\">/</span> train/manager_expl_return_normed_min <span style=\"color: #008080; text-decoration-color: #008080; font-weight: bold\">-1.3e-3</span> <span style=\"color: #000080; text-decoration-color: #000080\">/</span> \n",
       "train/manager_expl_return_normed_std <span style=\"color: #008080; text-decoration-color: #008080; font-weight: bold\">0.45</span> <span style=\"color: #000080; text-decoration-color: #000080\">/</span> train/manager_expl_return_rate <span style=\"color: #008080; text-decoration-color: #008080; font-weight: bold\">0.58</span> <span style=\"color: #000080; text-decoration-color: #000080\">/</span> train/manager_expl_return_raw_mag\n",
       "<span style=\"color: #008080; text-decoration-color: #008080; font-weight: bold\">2.13</span> <span style=\"color: #000080; text-decoration-color: #000080\">/</span> train/manager_expl_return_raw_max <span style=\"color: #008080; text-decoration-color: #008080; font-weight: bold\">2.13</span> <span style=\"color: #000080; text-decoration-color: #000080\">/</span> train/manager_expl_return_raw_mean <span style=\"color: #008080; text-decoration-color: #008080; font-weight: bold\">0.68</span> <span style=\"color: #000080; text-decoration-color: #000080\">/</span> \n",
       "train/manager_expl_return_raw_min <span style=\"color: #008080; text-decoration-color: #008080; font-weight: bold\">0</span> <span style=\"color: #000080; text-decoration-color: #000080\">/</span> train/manager_expl_return_raw_std <span style=\"color: #008080; text-decoration-color: #008080; font-weight: bold\">0.45</span> <span style=\"color: #000080; text-decoration-color: #000080\">/</span> train/manager_expl_reward_mag <span style=\"color: #008080; text-decoration-color: #008080; font-weight: bold\">0.37</span> <span style=\"color: #000080; text-decoration-color: #000080\">/</span>\n",
       "train/manager_expl_reward_max <span style=\"color: #008080; text-decoration-color: #008080; font-weight: bold\">0.37</span> <span style=\"color: #000080; text-decoration-color: #000080\">/</span> train/manager_expl_reward_mean <span style=\"color: #008080; text-decoration-color: #008080; font-weight: bold\">0.17</span> <span style=\"color: #000080; text-decoration-color: #000080\">/</span> train/manager_expl_reward_min <span style=\"color: #008080; text-decoration-color: #008080; font-weight: bold\">0</span> <span style=\"color: #000080; text-decoration-color: #000080\">/</span> \n",
       "train/manager_expl_reward_std <span style=\"color: #008080; text-decoration-color: #008080; font-weight: bold\">0.08</span> <span style=\"color: #000080; text-decoration-color: #000080\">/</span> train/manager_extr_return_normed_mag <span style=\"color: #008080; text-decoration-color: #008080; font-weight: bold\">2.2e-3</span> <span style=\"color: #000080; text-decoration-color: #000080\">/</span> \n",
       "train/manager_extr_return_normed_max <span style=\"color: #008080; text-decoration-color: #008080; font-weight: bold\">1.8e-3</span> <span style=\"color: #000080; text-decoration-color: #000080\">/</span> train/manager_extr_return_normed_mean <span style=\"color: #008080; text-decoration-color: #008080; font-weight: bold\">-1.9e-4</span> <span style=\"color: #000080; text-decoration-color: #000080\">/</span> \n",
       "train/manager_extr_return_normed_min <span style=\"color: #008080; text-decoration-color: #008080; font-weight: bold\">-2.2e-3</span> <span style=\"color: #000080; text-decoration-color: #000080\">/</span> train/manager_extr_return_normed_std <span style=\"color: #008080; text-decoration-color: #008080; font-weight: bold\">5.1e-4</span> <span style=\"color: #000080; text-decoration-color: #000080\">/</span> \n",
       "train/manager_extr_return_rate <span style=\"color: #008080; text-decoration-color: #008080; font-weight: bold\">0</span> <span style=\"color: #000080; text-decoration-color: #000080\">/</span> train/manager_extr_return_raw_mag <span style=\"color: #008080; text-decoration-color: #008080; font-weight: bold\">2.2e-3</span> <span style=\"color: #000080; text-decoration-color: #000080\">/</span> train/manager_extr_return_raw_max \n",
       "<span style=\"color: #008080; text-decoration-color: #008080; font-weight: bold\">1.8e-3</span> <span style=\"color: #000080; text-decoration-color: #000080\">/</span> train/manager_extr_return_raw_mean <span style=\"color: #008080; text-decoration-color: #008080; font-weight: bold\">-2e-4</span> <span style=\"color: #000080; text-decoration-color: #000080\">/</span> train/manager_extr_return_raw_min <span style=\"color: #008080; text-decoration-color: #008080; font-weight: bold\">-2.2e-3</span> <span style=\"color: #000080; text-decoration-color: #000080\">/</span> \n",
       "train/manager_extr_return_raw_std <span style=\"color: #008080; text-decoration-color: #008080; font-weight: bold\">5.1e-4</span> <span style=\"color: #000080; text-decoration-color: #000080\">/</span> train/manager_extr_reward_mag <span style=\"color: #008080; text-decoration-color: #008080; font-weight: bold\">1.1e-3</span> <span style=\"color: #000080; text-decoration-color: #000080\">/</span> train/manager_extr_reward_max \n",
       "<span style=\"color: #008080; text-decoration-color: #008080; font-weight: bold\">1.1e-3</span> <span style=\"color: #000080; text-decoration-color: #000080\">/</span> train/manager_extr_reward_mean <span style=\"color: #008080; text-decoration-color: #008080; font-weight: bold\">-4.7e-5</span> <span style=\"color: #000080; text-decoration-color: #000080\">/</span> train/manager_extr_reward_min <span style=\"color: #008080; text-decoration-color: #008080; font-weight: bold\">-1.1e-3</span> <span style=\"color: #000080; text-decoration-color: #000080\">/</span> \n",
       "train/manager_extr_reward_std <span style=\"color: #008080; text-decoration-color: #008080; font-weight: bold\">2.4e-4</span> <span style=\"color: #000080; text-decoration-color: #000080\">/</span> train/manager_policy_entropy_mag <span style=\"color: #008080; text-decoration-color: #008080; font-weight: bold\">1.39</span> <span style=\"color: #000080; text-decoration-color: #000080\">/</span> train/manager_policy_entropy_max \n",
       "<span style=\"color: #008080; text-decoration-color: #008080; font-weight: bold\">1.39</span> <span style=\"color: #000080; text-decoration-color: #000080\">/</span> train/manager_policy_entropy_mean <span style=\"color: #008080; text-decoration-color: #008080; font-weight: bold\">1.18</span> <span style=\"color: #000080; text-decoration-color: #000080\">/</span> train/manager_policy_entropy_min <span style=\"color: #008080; text-decoration-color: #008080; font-weight: bold\">0.52</span> <span style=\"color: #000080; text-decoration-color: #000080\">/</span> \n",
       "train/manager_policy_entropy_std <span style=\"color: #008080; text-decoration-color: #008080; font-weight: bold\">0.14</span> <span style=\"color: #000080; text-decoration-color: #000080\">/</span> train/manager_policy_logprob_mag <span style=\"color: #008080; text-decoration-color: #008080; font-weight: bold\">0</span> <span style=\"color: #000080; text-decoration-color: #000080\">/</span> train/manager_policy_logprob_max <span style=\"color: #008080; text-decoration-color: #008080; font-weight: bold\">0</span> <span style=\"color: #000080; text-decoration-color: #000080\">/</span> \n",
       "train/manager_policy_logprob_mean <span style=\"color: #008080; text-decoration-color: #008080; font-weight: bold\">0</span> <span style=\"color: #000080; text-decoration-color: #000080\">/</span> train/manager_policy_logprob_min <span style=\"color: #008080; text-decoration-color: #008080; font-weight: bold\">0</span> <span style=\"color: #000080; text-decoration-color: #000080\">/</span> train/manager_policy_logprob_std <span style=\"color: #008080; text-decoration-color: #008080; font-weight: bold\">0</span> <span style=\"color: #000080; text-decoration-color: #000080\">/</span> \n",
       "train/manager_policy_randomness_mag <span style=\"color: #008080; text-decoration-color: #008080; font-weight: bold\">1</span> <span style=\"color: #000080; text-decoration-color: #000080\">/</span> train/manager_policy_randomness_max <span style=\"color: #008080; text-decoration-color: #008080; font-weight: bold\">1</span> <span style=\"color: #000080; text-decoration-color: #000080\">/</span> \n",
       "train/manager_policy_randomness_mean <span style=\"color: #008080; text-decoration-color: #008080; font-weight: bold\">0.85</span> <span style=\"color: #000080; text-decoration-color: #000080\">/</span> train/manager_policy_randomness_min <span style=\"color: #008080; text-decoration-color: #008080; font-weight: bold\">0.37</span> <span style=\"color: #000080; text-decoration-color: #000080\">/</span> \n",
       "train/manager_policy_randomness_std <span style=\"color: #008080; text-decoration-color: #008080; font-weight: bold\">0.1</span> <span style=\"color: #000080; text-decoration-color: #000080\">/</span> train/model_loss_mean <span style=\"color: #008080; text-decoration-color: #008080; font-weight: bold\">10.36</span> <span style=\"color: #000080; text-decoration-color: #000080\">/</span> train/model_loss_std <span style=\"color: #008080; text-decoration-color: #008080; font-weight: bold\">2.67</span> <span style=\"color: #000080; text-decoration-color: #000080\">/</span> \n",
       "train/model_opt_grad_norm <span style=\"color: #008080; text-decoration-color: #008080; font-weight: bold\">15.53</span> <span style=\"color: #000080; text-decoration-color: #000080\">/</span> train/model_opt_grad_steps <span style=\"color: #008080; text-decoration-color: #008080; font-weight: bold\">1</span> <span style=\"color: #000080; text-decoration-color: #000080\">/</span> train/model_opt_loss <span style=\"color: #008080; text-decoration-color: #008080; font-weight: bold\">1e5</span> <span style=\"color: #000080; text-decoration-color: #000080\">/</span> \n",
       "train/model_opt_model_opt_grad_overflow <span style=\"color: #008080; text-decoration-color: #008080; font-weight: bold\">0</span> <span style=\"color: #000080; text-decoration-color: #000080\">/</span> train/model_opt_model_opt_grad_scale <span style=\"color: #008080; text-decoration-color: #008080; font-weight: bold\">1e4</span> <span style=\"color: #000080; text-decoration-color: #000080\">/</span> train/observation_loss_mean \n",
       "<span style=\"color: #008080; text-decoration-color: #008080; font-weight: bold\">6.58</span> <span style=\"color: #000080; text-decoration-color: #000080\">/</span> train/observation_loss_std <span style=\"color: #008080; text-decoration-color: #008080; font-weight: bold\">2.66</span> <span style=\"color: #000080; text-decoration-color: #000080\">/</span> train/post_ent_mag <span style=\"color: #008080; text-decoration-color: #008080; font-weight: bold\">15.6</span> <span style=\"color: #000080; text-decoration-color: #000080\">/</span> train/post_ent_max <span style=\"color: #008080; text-decoration-color: #008080; font-weight: bold\">15.6</span> <span style=\"color: #000080; text-decoration-color: #000080\">/</span> train/post_ent_mean \n",
       "<span style=\"color: #008080; text-decoration-color: #008080; font-weight: bold\">14.94</span> <span style=\"color: #000080; text-decoration-color: #000080\">/</span> train/post_ent_min <span style=\"color: #008080; text-decoration-color: #008080; font-weight: bold\">14.22</span> <span style=\"color: #000080; text-decoration-color: #000080\">/</span> train/post_ent_std <span style=\"color: #008080; text-decoration-color: #008080; font-weight: bold\">0.39</span> <span style=\"color: #000080; text-decoration-color: #000080\">/</span> train/prior_ent_mag <span style=\"color: #008080; text-decoration-color: #008080; font-weight: bold\">16.05</span> <span style=\"color: #000080; text-decoration-color: #000080\">/</span> train/prior_ent_max <span style=\"color: #008080; text-decoration-color: #008080; font-weight: bold\">16.05</span> \n",
       "<span style=\"color: #000080; text-decoration-color: #000080\">/</span> train/prior_ent_mean <span style=\"color: #008080; text-decoration-color: #008080; font-weight: bold\">15.58</span> <span style=\"color: #000080; text-decoration-color: #000080\">/</span> train/prior_ent_min <span style=\"color: #008080; text-decoration-color: #008080; font-weight: bold\">14.85</span> <span style=\"color: #000080; text-decoration-color: #000080\">/</span> train/prior_ent_std <span style=\"color: #008080; text-decoration-color: #008080; font-weight: bold\">0.28</span> <span style=\"color: #000080; text-decoration-color: #000080\">/</span> train/rep_loss_mean <span style=\"color: #008080; text-decoration-color: #008080; font-weight: bold\">2.65</span> <span style=\"color: #000080; text-decoration-color: #000080\">/</span> \n",
       "train/rep_loss_std <span style=\"color: #008080; text-decoration-color: #008080; font-weight: bold\">0.38</span> <span style=\"color: #000080; text-decoration-color: #000080\">/</span> train/reward_avg <span style=\"color: #008080; text-decoration-color: #008080; font-weight: bold\">-0.55</span> <span style=\"color: #000080; text-decoration-color: #000080\">/</span> train/reward_loss_mean <span style=\"color: #008080; text-decoration-color: #008080; font-weight: bold\">1.61</span> <span style=\"color: #000080; text-decoration-color: #000080\">/</span> train/reward_loss_std <span style=\"color: #008080; text-decoration-color: #008080; font-weight: bold\">6.5e-7</span> <span style=\"color: #000080; text-decoration-color: #000080\">/</span> \n",
       "train/reward_max_data <span style=\"color: #008080; text-decoration-color: #008080; font-weight: bold\">10</span> <span style=\"color: #000080; text-decoration-color: #000080\">/</span> train/reward_max_pred <span style=\"color: #008080; text-decoration-color: #008080; font-weight: bold\">0</span> <span style=\"color: #000080; text-decoration-color: #000080\">/</span> train/reward_neg_acc <span style=\"color: #008080; text-decoration-color: #008080; font-weight: bold\">1</span> <span style=\"color: #000080; text-decoration-color: #000080\">/</span> train/reward_neg_loss <span style=\"color: #008080; text-decoration-color: #008080; font-weight: bold\">1.61</span> <span style=\"color: #000080; text-decoration-color: #000080\">/</span> \n",
       "train/reward_pos_acc <span style=\"color: #008080; text-decoration-color: #008080; font-weight: bold\">0</span> <span style=\"color: #000080; text-decoration-color: #000080\">/</span> train/reward_pos_loss <span style=\"color: #008080; text-decoration-color: #008080; font-weight: bold\">1.61</span> <span style=\"color: #000080; text-decoration-color: #000080\">/</span> train/reward_pred <span style=\"color: #008080; text-decoration-color: #008080; font-weight: bold\">0</span> <span style=\"color: #000080; text-decoration-color: #000080\">/</span> train/reward_rate <span style=\"color: #008080; text-decoration-color: #008080; font-weight: bold\">5.2e-3</span> <span style=\"color: #000080; text-decoration-color: #000080\">/</span> \n",
       "train/success_manager <span style=\"color: #008080; text-decoration-color: #008080; font-weight: bold\">0</span> <span style=\"color: #000080; text-decoration-color: #000080\">/</span> train/params_agent/wm/model_opt <span style=\"color: #008080; text-decoration-color: #008080; font-weight: bold\">8.9e4</span> <span style=\"color: #000080; text-decoration-color: #000080\">/</span> \n",
       "train/params_agent/task_behavior/manager_critic_extr/critic_opt <span style=\"color: #008080; text-decoration-color: #008080; font-weight: bold\">1.1e4</span> <span style=\"color: #000080; text-decoration-color: #000080\">/</span> \n",
       "train/params_agent/task_behavior/manager_critic_expl/critic_opt <span style=\"color: #008080; text-decoration-color: #008080; font-weight: bold\">1.1e4</span> <span style=\"color: #000080; text-decoration-color: #000080\">/</span> \n",
       "train/params_agent/task_behavior/manager/actor_opt <span style=\"color: #008080; text-decoration-color: #008080; font-weight: bold\">1.1e4</span> <span style=\"color: #000080; text-decoration-color: #000080\">/</span> replay/size <span style=\"color: #008080; text-decoration-color: #008080; font-weight: bold\">290</span> <span style=\"color: #000080; text-decoration-color: #000080\">/</span> replay/inserts <span style=\"color: #008080; text-decoration-color: #008080; font-weight: bold\">290</span> <span style=\"color: #000080; text-decoration-color: #000080\">/</span> replay/samples \n",
       "<span style=\"color: #008080; text-decoration-color: #008080; font-weight: bold\">112</span> <span style=\"color: #000080; text-decoration-color: #000080\">/</span> replay/insert_wait_avg <span style=\"color: #008080; text-decoration-color: #008080; font-weight: bold\">3.9e-6</span> <span style=\"color: #000080; text-decoration-color: #000080\">/</span> replay/insert_wait_frac <span style=\"color: #008080; text-decoration-color: #008080; font-weight: bold\">1</span> <span style=\"color: #000080; text-decoration-color: #000080\">/</span> replay/sample_wait_avg <span style=\"color: #008080; text-decoration-color: #008080; font-weight: bold\">2.8e-6</span> <span style=\"color: #000080; text-decoration-color: #000080\">/</span> \n",
       "replay/sample_wait_frac <span style=\"color: #008080; text-decoration-color: #008080; font-weight: bold\">1</span> <span style=\"color: #000080; text-decoration-color: #000080\">/</span> timer/duration <span style=\"color: #008080; text-decoration-color: #008080; font-weight: bold\">128.49</span> <span style=\"color: #000080; text-decoration-color: #000080\">/</span> timer/env.step_count <span style=\"color: #008080; text-decoration-color: #008080; font-weight: bold\">301</span> <span style=\"color: #000080; text-decoration-color: #000080\">/</span> timer/env.step_total <span style=\"color: #008080; text-decoration-color: #008080; font-weight: bold\">0.07</span> <span style=\"color: #000080; text-decoration-color: #000080\">/</span> \n",
       "timer/env.step_frac <span style=\"color: #008080; text-decoration-color: #008080; font-weight: bold\">5.4e-4</span> <span style=\"color: #000080; text-decoration-color: #000080\">/</span> timer/env.step_avg <span style=\"color: #008080; text-decoration-color: #008080; font-weight: bold\">2.3e-4</span> <span style=\"color: #000080; text-decoration-color: #000080\">/</span> timer/env.step_min <span style=\"color: #008080; text-decoration-color: #008080; font-weight: bold\">1.3e-4</span> <span style=\"color: #000080; text-decoration-color: #000080\">/</span> timer/env.step_max <span style=\"color: #008080; text-decoration-color: #008080; font-weight: bold\">1.6e-3</span> <span style=\"color: #000080; text-decoration-color: #000080\">/</span> \n",
       "timer/replay.add_count <span style=\"color: #008080; text-decoration-color: #008080; font-weight: bold\">301</span> <span style=\"color: #000080; text-decoration-color: #000080\">/</span> timer/replay.add_total <span style=\"color: #008080; text-decoration-color: #008080; font-weight: bold\">0.03</span> <span style=\"color: #000080; text-decoration-color: #000080\">/</span> timer/replay.add_frac <span style=\"color: #008080; text-decoration-color: #008080; font-weight: bold\">2.2e-4</span> <span style=\"color: #000080; text-decoration-color: #000080\">/</span> timer/replay.add_avg \n",
       "<span style=\"color: #008080; text-decoration-color: #008080; font-weight: bold\">9.2e-5</span> <span style=\"color: #000080; text-decoration-color: #000080\">/</span> timer/replay.add_min <span style=\"color: #008080; text-decoration-color: #008080; font-weight: bold\">3.9e-5</span> <span style=\"color: #000080; text-decoration-color: #000080\">/</span> timer/replay.add_max <span style=\"color: #008080; text-decoration-color: #008080; font-weight: bold\">5.9e-4</span> <span style=\"color: #000080; text-decoration-color: #000080\">/</span> timer/logger.write_count <span style=\"color: #008080; text-decoration-color: #008080; font-weight: bold\">1</span> <span style=\"color: #000080; text-decoration-color: #000080\">/</span> \n",
       "timer/logger.write_total <span style=\"color: #008080; text-decoration-color: #008080; font-weight: bold\">0.02</span> <span style=\"color: #000080; text-decoration-color: #000080\">/</span> timer/logger.write_frac <span style=\"color: #008080; text-decoration-color: #008080; font-weight: bold\">1.5e-4</span> <span style=\"color: #000080; text-decoration-color: #000080\">/</span> timer/logger.write_avg <span style=\"color: #008080; text-decoration-color: #008080; font-weight: bold\">0.02</span> <span style=\"color: #000080; text-decoration-color: #000080\">/</span> \n",
       "timer/logger.write_min <span style=\"color: #008080; text-decoration-color: #008080; font-weight: bold\">0.02</span> <span style=\"color: #000080; text-decoration-color: #000080\">/</span> timer/logger.write_max <span style=\"color: #008080; text-decoration-color: #008080; font-weight: bold\">0.02</span> <span style=\"color: #000080; text-decoration-color: #000080\">/</span> timer/checkpoint.save_count <span style=\"color: #008080; text-decoration-color: #008080; font-weight: bold\">1</span> <span style=\"color: #000080; text-decoration-color: #000080\">/</span> \n",
       "timer/checkpoint.save_total <span style=\"color: #008080; text-decoration-color: #008080; font-weight: bold\">6.1e-3</span> <span style=\"color: #000080; text-decoration-color: #000080\">/</span> timer/checkpoint.save_frac <span style=\"color: #008080; text-decoration-color: #008080; font-weight: bold\">4.7e-5</span> <span style=\"color: #000080; text-decoration-color: #000080\">/</span> timer/checkpoint.save_avg <span style=\"color: #008080; text-decoration-color: #008080; font-weight: bold\">6.1e-3</span> <span style=\"color: #000080; text-decoration-color: #000080\">/</span> \n",
       "timer/checkpoint.save_min <span style=\"color: #008080; text-decoration-color: #008080; font-weight: bold\">6.1e-3</span> <span style=\"color: #000080; text-decoration-color: #000080\">/</span> timer/checkpoint.save_max <span style=\"color: #008080; text-decoration-color: #008080; font-weight: bold\">6.1e-3</span> <span style=\"color: #000080; text-decoration-color: #000080\">/</span> timer/agent.save_count <span style=\"color: #008080; text-decoration-color: #008080; font-weight: bold\">1</span> <span style=\"color: #000080; text-decoration-color: #000080\">/</span> \n",
       "timer/agent.save_total <span style=\"color: #008080; text-decoration-color: #008080; font-weight: bold\">0.39</span> <span style=\"color: #000080; text-decoration-color: #000080\">/</span> timer/agent.save_frac <span style=\"color: #008080; text-decoration-color: #008080; font-weight: bold\">3e-3</span> <span style=\"color: #000080; text-decoration-color: #000080\">/</span> timer/agent.save_avg <span style=\"color: #008080; text-decoration-color: #008080; font-weight: bold\">0.39</span> <span style=\"color: #000080; text-decoration-color: #000080\">/</span> timer/agent.save_min <span style=\"color: #008080; text-decoration-color: #008080; font-weight: bold\">0.39</span> <span style=\"color: #000080; text-decoration-color: #000080\">/</span> \n",
       "timer/agent.save_max <span style=\"color: #008080; text-decoration-color: #008080; font-weight: bold\">0.39</span> <span style=\"color: #000080; text-decoration-color: #000080\">/</span> timer/replay.save_count <span style=\"color: #008080; text-decoration-color: #008080; font-weight: bold\">1</span> <span style=\"color: #000080; text-decoration-color: #000080\">/</span> timer/replay.save_total <span style=\"color: #008080; text-decoration-color: #008080; font-weight: bold\">1.9e-6</span> <span style=\"color: #000080; text-decoration-color: #000080\">/</span> timer/replay.save_frac \n",
       "<span style=\"color: #008080; text-decoration-color: #008080; font-weight: bold\">1.5e-8</span> <span style=\"color: #000080; text-decoration-color: #000080\">/</span> timer/replay.save_avg <span style=\"color: #008080; text-decoration-color: #008080; font-weight: bold\">1.9e-6</span> <span style=\"color: #000080; text-decoration-color: #000080\">/</span> timer/replay.save_min <span style=\"color: #008080; text-decoration-color: #008080; font-weight: bold\">1.9e-6</span> <span style=\"color: #000080; text-decoration-color: #000080\">/</span> timer/replay.save_max <span style=\"color: #008080; text-decoration-color: #008080; font-weight: bold\">1.9e-6</span> <span style=\"color: #000080; text-decoration-color: #000080\">/</span> \n",
       "timer/agent.policy_count <span style=\"color: #008080; text-decoration-color: #008080; font-weight: bold\">1</span> <span style=\"color: #000080; text-decoration-color: #000080\">/</span> timer/agent.policy_total <span style=\"color: #008080; text-decoration-color: #008080; font-weight: bold\">7.2</span> <span style=\"color: #000080; text-decoration-color: #000080\">/</span> timer/agent.policy_frac <span style=\"color: #008080; text-decoration-color: #008080; font-weight: bold\">0.06</span> <span style=\"color: #000080; text-decoration-color: #000080\">/</span> timer/agent.policy_avg \n",
       "<span style=\"color: #008080; text-decoration-color: #008080; font-weight: bold\">7.2</span> <span style=\"color: #000080; text-decoration-color: #000080\">/</span> timer/agent.policy_min <span style=\"color: #008080; text-decoration-color: #008080; font-weight: bold\">7.2</span> <span style=\"color: #000080; text-decoration-color: #000080\">/</span> timer/agent.policy_max <span style=\"color: #008080; text-decoration-color: #008080; font-weight: bold\">7.2</span> <span style=\"color: #000080; text-decoration-color: #000080\">/</span> timer/dataset_count <span style=\"color: #008080; text-decoration-color: #008080; font-weight: bold\">1</span> <span style=\"color: #000080; text-decoration-color: #000080\">/</span> timer/dataset_total <span style=\"color: #008080; text-decoration-color: #008080; font-weight: bold\">1.2e-4</span> \n",
       "<span style=\"color: #000080; text-decoration-color: #000080\">/</span> timer/dataset_frac <span style=\"color: #008080; text-decoration-color: #008080; font-weight: bold\">9e-7</span> <span style=\"color: #000080; text-decoration-color: #000080\">/</span> timer/dataset_avg <span style=\"color: #008080; text-decoration-color: #008080; font-weight: bold\">1.2e-4</span> <span style=\"color: #000080; text-decoration-color: #000080\">/</span> timer/dataset_min <span style=\"color: #008080; text-decoration-color: #008080; font-weight: bold\">1.2e-4</span> <span style=\"color: #000080; text-decoration-color: #000080\">/</span> timer/dataset_max <span style=\"color: #008080; text-decoration-color: #008080; font-weight: bold\">1.2e-4</span> <span style=\"color: #000080; text-decoration-color: #000080\">/</span> \n",
       "timer/agent.train_count <span style=\"color: #008080; text-decoration-color: #008080; font-weight: bold\">1</span> <span style=\"color: #000080; text-decoration-color: #000080\">/</span> timer/agent.train_total <span style=\"color: #008080; text-decoration-color: #008080; font-weight: bold\">107.16</span> <span style=\"color: #000080; text-decoration-color: #000080\">/</span> timer/agent.train_frac <span style=\"color: #008080; text-decoration-color: #008080; font-weight: bold\">0.83</span> <span style=\"color: #000080; text-decoration-color: #000080\">/</span> timer/agent.train_avg \n",
       "<span style=\"color: #008080; text-decoration-color: #008080; font-weight: bold\">107.16</span> <span style=\"color: #000080; text-decoration-color: #000080\">/</span> timer/agent.train_min <span style=\"color: #008080; text-decoration-color: #008080; font-weight: bold\">107.16</span> <span style=\"color: #000080; text-decoration-color: #000080\">/</span> timer/agent.train_max <span style=\"color: #008080; text-decoration-color: #008080; font-weight: bold\">107.16</span> <span style=\"color: #000080; text-decoration-color: #000080\">/</span> timer/agent.report_count <span style=\"color: #008080; text-decoration-color: #008080; font-weight: bold\">1</span> <span style=\"color: #000080; text-decoration-color: #000080\">/</span> \n",
       "timer/agent.report_total <span style=\"color: #008080; text-decoration-color: #008080; font-weight: bold\">13.92</span> <span style=\"color: #000080; text-decoration-color: #000080\">/</span> timer/agent.report_frac <span style=\"color: #008080; text-decoration-color: #008080; font-weight: bold\">0.11</span> <span style=\"color: #000080; text-decoration-color: #000080\">/</span> timer/agent.report_avg <span style=\"color: #008080; text-decoration-color: #008080; font-weight: bold\">13.92</span> <span style=\"color: #000080; text-decoration-color: #000080\">/</span> \n",
       "timer/agent.report_min <span style=\"color: #008080; text-decoration-color: #008080; font-weight: bold\">13.92</span> <span style=\"color: #000080; text-decoration-color: #000080\">/</span> timer/agent.report_max <span style=\"color: #008080; text-decoration-color: #008080; font-weight: bold\">13.92</span>\n",
       "</pre>\n"
      ],
      "text/plain": [
       "train/actor_opt_actor_opt_grad_overflow \u001b[1;36m0\u001b[0m \u001b[34m/\u001b[0m train/actor_opt_actor_opt_grad_scale \u001b[1;36m1e4\u001b[0m \u001b[34m/\u001b[0m train/actor_opt_grad_norm \n",
       "\u001b[1;36m8.8e-5\u001b[0m \u001b[34m/\u001b[0m train/actor_opt_grad_steps \u001b[1;36m1\u001b[0m \u001b[34m/\u001b[0m train/actor_opt_loss \u001b[1;36m-1.56\u001b[0m \u001b[34m/\u001b[0m train/cont_avg \u001b[1;36m0.92\u001b[0m \u001b[34m/\u001b[0m train/cont_loss_mean \n",
       "\u001b[1;36m0.58\u001b[0m \u001b[34m/\u001b[0m train/cont_loss_std \u001b[1;36m0.31\u001b[0m \u001b[34m/\u001b[0m train/cont_neg_acc \u001b[1;36m0.25\u001b[0m \u001b[34m/\u001b[0m train/cont_neg_loss \u001b[1;36m1.12\u001b[0m \u001b[34m/\u001b[0m train/cont_pos_acc \u001b[1;36m0.77\u001b[0m \u001b[34m/\u001b[0m \n",
       "train/cont_pos_loss \u001b[1;36m0.53\u001b[0m \u001b[34m/\u001b[0m train/cont_pred \u001b[1;36m0.61\u001b[0m \u001b[34m/\u001b[0m train/cont_rate \u001b[1;36m0.92\u001b[0m \u001b[34m/\u001b[0m train/dyn_loss_mean \u001b[1;36m2.65\u001b[0m \u001b[34m/\u001b[0m \n",
       "train/dyn_loss_std \u001b[1;36m0.38\u001b[0m \u001b[34m/\u001b[0m train/expl_manager-critic_critic_opt_critic_opt_grad_overflow \u001b[1;36m0\u001b[0m \u001b[34m/\u001b[0m \n",
       "train/expl_manager-critic_critic_opt_critic_opt_grad_scale \u001b[1;36m1e4\u001b[0m \u001b[34m/\u001b[0m train/expl_manager-critic_critic_opt_grad_norm \n",
       "\u001b[1;36m2.71\u001b[0m \u001b[34m/\u001b[0m train/expl_manager-critic_critic_opt_grad_steps \u001b[1;36m1\u001b[0m \u001b[34m/\u001b[0m train/expl_manager-critic_critic_opt_loss \u001b[1;36m1.4e4\u001b[0m \u001b[34m/\u001b[0m \n",
       "train/expl_manager-critic_mag \u001b[1;36m0\u001b[0m \u001b[34m/\u001b[0m train/expl_manager-critic_max \u001b[1;36m0\u001b[0m \u001b[34m/\u001b[0m train/expl_manager-critic_mean \u001b[1;36m0\u001b[0m \u001b[34m/\u001b[0m \n",
       "train/expl_manager-critic_min \u001b[1;36m0\u001b[0m \u001b[34m/\u001b[0m train/expl_manager-critic_std \u001b[1;36m0\u001b[0m \u001b[34m/\u001b[0m \n",
       "train/extr_manager-critic_critic_opt_critic_opt_grad_overflow \u001b[1;36m0\u001b[0m \u001b[34m/\u001b[0m \n",
       "train/extr_manager-critic_critic_opt_critic_opt_grad_scale \u001b[1;36m1e4\u001b[0m \u001b[34m/\u001b[0m train/extr_manager-critic_critic_opt_grad_norm \n",
       "\u001b[1;36m2.74\u001b[0m \u001b[34m/\u001b[0m train/extr_manager-critic_critic_opt_grad_steps \u001b[1;36m1\u001b[0m \u001b[34m/\u001b[0m train/extr_manager-critic_critic_opt_loss \u001b[1;36m1.4e4\u001b[0m \u001b[34m/\u001b[0m \n",
       "train/extr_manager-critic_mag \u001b[1;36m0\u001b[0m \u001b[34m/\u001b[0m train/extr_manager-critic_max \u001b[1;36m0\u001b[0m \u001b[34m/\u001b[0m train/extr_manager-critic_mean \u001b[1;36m0\u001b[0m \u001b[34m/\u001b[0m \n",
       "train/extr_manager-critic_min \u001b[1;36m0\u001b[0m \u001b[34m/\u001b[0m train/extr_manager-critic_std \u001b[1;36m0\u001b[0m \u001b[34m/\u001b[0m train/manager_action_mag \u001b[1;36m0\u001b[0m \u001b[34m/\u001b[0m \n",
       "train/manager_action_max \u001b[1;36m0\u001b[0m \u001b[34m/\u001b[0m train/manager_action_mean \u001b[1;36m0\u001b[0m \u001b[34m/\u001b[0m train/manager_action_min \u001b[1;36m0\u001b[0m \u001b[34m/\u001b[0m train/manager_action_std \u001b[1;36m0\u001b[0m \n",
       "\u001b[34m/\u001b[0m train/manager_actor_opt_loss \u001b[1;36m-1.56\u001b[0m \u001b[34m/\u001b[0m train/manager_adv_mag \u001b[1;36m0.19\u001b[0m \u001b[34m/\u001b[0m train/manager_adv_max \u001b[1;36m0.19\u001b[0m \u001b[34m/\u001b[0m \n",
       "train/manager_adv_mean \u001b[1;36m0.06\u001b[0m \u001b[34m/\u001b[0m train/manager_adv_min \u001b[1;36m0\u001b[0m \u001b[34m/\u001b[0m train/manager_adv_std \u001b[1;36m0.04\u001b[0m \u001b[34m/\u001b[0m \n",
       "train/manager_expl_return_normed_mag \u001b[1;36m2.13\u001b[0m \u001b[34m/\u001b[0m train/manager_expl_return_normed_max \u001b[1;36m2.13\u001b[0m \u001b[34m/\u001b[0m \n",
       "train/manager_expl_return_normed_mean \u001b[1;36m0.68\u001b[0m \u001b[34m/\u001b[0m train/manager_expl_return_normed_min \u001b[1;36m-1.3e-3\u001b[0m \u001b[34m/\u001b[0m \n",
       "train/manager_expl_return_normed_std \u001b[1;36m0.45\u001b[0m \u001b[34m/\u001b[0m train/manager_expl_return_rate \u001b[1;36m0.58\u001b[0m \u001b[34m/\u001b[0m train/manager_expl_return_raw_mag\n",
       "\u001b[1;36m2.13\u001b[0m \u001b[34m/\u001b[0m train/manager_expl_return_raw_max \u001b[1;36m2.13\u001b[0m \u001b[34m/\u001b[0m train/manager_expl_return_raw_mean \u001b[1;36m0.68\u001b[0m \u001b[34m/\u001b[0m \n",
       "train/manager_expl_return_raw_min \u001b[1;36m0\u001b[0m \u001b[34m/\u001b[0m train/manager_expl_return_raw_std \u001b[1;36m0.45\u001b[0m \u001b[34m/\u001b[0m train/manager_expl_reward_mag \u001b[1;36m0.37\u001b[0m \u001b[34m/\u001b[0m\n",
       "train/manager_expl_reward_max \u001b[1;36m0.37\u001b[0m \u001b[34m/\u001b[0m train/manager_expl_reward_mean \u001b[1;36m0.17\u001b[0m \u001b[34m/\u001b[0m train/manager_expl_reward_min \u001b[1;36m0\u001b[0m \u001b[34m/\u001b[0m \n",
       "train/manager_expl_reward_std \u001b[1;36m0.08\u001b[0m \u001b[34m/\u001b[0m train/manager_extr_return_normed_mag \u001b[1;36m2.2e-3\u001b[0m \u001b[34m/\u001b[0m \n",
       "train/manager_extr_return_normed_max \u001b[1;36m1.8e-3\u001b[0m \u001b[34m/\u001b[0m train/manager_extr_return_normed_mean \u001b[1;36m-1.9e-4\u001b[0m \u001b[34m/\u001b[0m \n",
       "train/manager_extr_return_normed_min \u001b[1;36m-2.2e-3\u001b[0m \u001b[34m/\u001b[0m train/manager_extr_return_normed_std \u001b[1;36m5.1e-4\u001b[0m \u001b[34m/\u001b[0m \n",
       "train/manager_extr_return_rate \u001b[1;36m0\u001b[0m \u001b[34m/\u001b[0m train/manager_extr_return_raw_mag \u001b[1;36m2.2e-3\u001b[0m \u001b[34m/\u001b[0m train/manager_extr_return_raw_max \n",
       "\u001b[1;36m1.8e-3\u001b[0m \u001b[34m/\u001b[0m train/manager_extr_return_raw_mean \u001b[1;36m-2e-4\u001b[0m \u001b[34m/\u001b[0m train/manager_extr_return_raw_min \u001b[1;36m-2.2e-3\u001b[0m \u001b[34m/\u001b[0m \n",
       "train/manager_extr_return_raw_std \u001b[1;36m5.1e-4\u001b[0m \u001b[34m/\u001b[0m train/manager_extr_reward_mag \u001b[1;36m1.1e-3\u001b[0m \u001b[34m/\u001b[0m train/manager_extr_reward_max \n",
       "\u001b[1;36m1.1e-3\u001b[0m \u001b[34m/\u001b[0m train/manager_extr_reward_mean \u001b[1;36m-4.7e-5\u001b[0m \u001b[34m/\u001b[0m train/manager_extr_reward_min \u001b[1;36m-1.1e-3\u001b[0m \u001b[34m/\u001b[0m \n",
       "train/manager_extr_reward_std \u001b[1;36m2.4e-4\u001b[0m \u001b[34m/\u001b[0m train/manager_policy_entropy_mag \u001b[1;36m1.39\u001b[0m \u001b[34m/\u001b[0m train/manager_policy_entropy_max \n",
       "\u001b[1;36m1.39\u001b[0m \u001b[34m/\u001b[0m train/manager_policy_entropy_mean \u001b[1;36m1.18\u001b[0m \u001b[34m/\u001b[0m train/manager_policy_entropy_min \u001b[1;36m0.52\u001b[0m \u001b[34m/\u001b[0m \n",
       "train/manager_policy_entropy_std \u001b[1;36m0.14\u001b[0m \u001b[34m/\u001b[0m train/manager_policy_logprob_mag \u001b[1;36m0\u001b[0m \u001b[34m/\u001b[0m train/manager_policy_logprob_max \u001b[1;36m0\u001b[0m \u001b[34m/\u001b[0m \n",
       "train/manager_policy_logprob_mean \u001b[1;36m0\u001b[0m \u001b[34m/\u001b[0m train/manager_policy_logprob_min \u001b[1;36m0\u001b[0m \u001b[34m/\u001b[0m train/manager_policy_logprob_std \u001b[1;36m0\u001b[0m \u001b[34m/\u001b[0m \n",
       "train/manager_policy_randomness_mag \u001b[1;36m1\u001b[0m \u001b[34m/\u001b[0m train/manager_policy_randomness_max \u001b[1;36m1\u001b[0m \u001b[34m/\u001b[0m \n",
       "train/manager_policy_randomness_mean \u001b[1;36m0.85\u001b[0m \u001b[34m/\u001b[0m train/manager_policy_randomness_min \u001b[1;36m0.37\u001b[0m \u001b[34m/\u001b[0m \n",
       "train/manager_policy_randomness_std \u001b[1;36m0.1\u001b[0m \u001b[34m/\u001b[0m train/model_loss_mean \u001b[1;36m10.36\u001b[0m \u001b[34m/\u001b[0m train/model_loss_std \u001b[1;36m2.67\u001b[0m \u001b[34m/\u001b[0m \n",
       "train/model_opt_grad_norm \u001b[1;36m15.53\u001b[0m \u001b[34m/\u001b[0m train/model_opt_grad_steps \u001b[1;36m1\u001b[0m \u001b[34m/\u001b[0m train/model_opt_loss \u001b[1;36m1e5\u001b[0m \u001b[34m/\u001b[0m \n",
       "train/model_opt_model_opt_grad_overflow \u001b[1;36m0\u001b[0m \u001b[34m/\u001b[0m train/model_opt_model_opt_grad_scale \u001b[1;36m1e4\u001b[0m \u001b[34m/\u001b[0m train/observation_loss_mean \n",
       "\u001b[1;36m6.58\u001b[0m \u001b[34m/\u001b[0m train/observation_loss_std \u001b[1;36m2.66\u001b[0m \u001b[34m/\u001b[0m train/post_ent_mag \u001b[1;36m15.6\u001b[0m \u001b[34m/\u001b[0m train/post_ent_max \u001b[1;36m15.6\u001b[0m \u001b[34m/\u001b[0m train/post_ent_mean \n",
       "\u001b[1;36m14.94\u001b[0m \u001b[34m/\u001b[0m train/post_ent_min \u001b[1;36m14.22\u001b[0m \u001b[34m/\u001b[0m train/post_ent_std \u001b[1;36m0.39\u001b[0m \u001b[34m/\u001b[0m train/prior_ent_mag \u001b[1;36m16.05\u001b[0m \u001b[34m/\u001b[0m train/prior_ent_max \u001b[1;36m16.05\u001b[0m \n",
       "\u001b[34m/\u001b[0m train/prior_ent_mean \u001b[1;36m15.58\u001b[0m \u001b[34m/\u001b[0m train/prior_ent_min \u001b[1;36m14.85\u001b[0m \u001b[34m/\u001b[0m train/prior_ent_std \u001b[1;36m0.28\u001b[0m \u001b[34m/\u001b[0m train/rep_loss_mean \u001b[1;36m2.65\u001b[0m \u001b[34m/\u001b[0m \n",
       "train/rep_loss_std \u001b[1;36m0.38\u001b[0m \u001b[34m/\u001b[0m train/reward_avg \u001b[1;36m-0.55\u001b[0m \u001b[34m/\u001b[0m train/reward_loss_mean \u001b[1;36m1.61\u001b[0m \u001b[34m/\u001b[0m train/reward_loss_std \u001b[1;36m6.5e-7\u001b[0m \u001b[34m/\u001b[0m \n",
       "train/reward_max_data \u001b[1;36m10\u001b[0m \u001b[34m/\u001b[0m train/reward_max_pred \u001b[1;36m0\u001b[0m \u001b[34m/\u001b[0m train/reward_neg_acc \u001b[1;36m1\u001b[0m \u001b[34m/\u001b[0m train/reward_neg_loss \u001b[1;36m1.61\u001b[0m \u001b[34m/\u001b[0m \n",
       "train/reward_pos_acc \u001b[1;36m0\u001b[0m \u001b[34m/\u001b[0m train/reward_pos_loss \u001b[1;36m1.61\u001b[0m \u001b[34m/\u001b[0m train/reward_pred \u001b[1;36m0\u001b[0m \u001b[34m/\u001b[0m train/reward_rate \u001b[1;36m5.2e-3\u001b[0m \u001b[34m/\u001b[0m \n",
       "train/success_manager \u001b[1;36m0\u001b[0m \u001b[34m/\u001b[0m train/params_agent/wm/model_opt \u001b[1;36m8.9e4\u001b[0m \u001b[34m/\u001b[0m \n",
       "train/params_agent/task_behavior/manager_critic_extr/critic_opt \u001b[1;36m1.1e4\u001b[0m \u001b[34m/\u001b[0m \n",
       "train/params_agent/task_behavior/manager_critic_expl/critic_opt \u001b[1;36m1.1e4\u001b[0m \u001b[34m/\u001b[0m \n",
       "train/params_agent/task_behavior/manager/actor_opt \u001b[1;36m1.1e4\u001b[0m \u001b[34m/\u001b[0m replay/size \u001b[1;36m290\u001b[0m \u001b[34m/\u001b[0m replay/inserts \u001b[1;36m290\u001b[0m \u001b[34m/\u001b[0m replay/samples \n",
       "\u001b[1;36m112\u001b[0m \u001b[34m/\u001b[0m replay/insert_wait_avg \u001b[1;36m3.9e-6\u001b[0m \u001b[34m/\u001b[0m replay/insert_wait_frac \u001b[1;36m1\u001b[0m \u001b[34m/\u001b[0m replay/sample_wait_avg \u001b[1;36m2.8e-6\u001b[0m \u001b[34m/\u001b[0m \n",
       "replay/sample_wait_frac \u001b[1;36m1\u001b[0m \u001b[34m/\u001b[0m timer/duration \u001b[1;36m128.49\u001b[0m \u001b[34m/\u001b[0m timer/env.step_count \u001b[1;36m301\u001b[0m \u001b[34m/\u001b[0m timer/env.step_total \u001b[1;36m0.07\u001b[0m \u001b[34m/\u001b[0m \n",
       "timer/env.step_frac \u001b[1;36m5.4e-4\u001b[0m \u001b[34m/\u001b[0m timer/env.step_avg \u001b[1;36m2.3e-4\u001b[0m \u001b[34m/\u001b[0m timer/env.step_min \u001b[1;36m1.3e-4\u001b[0m \u001b[34m/\u001b[0m timer/env.step_max \u001b[1;36m1.6e-3\u001b[0m \u001b[34m/\u001b[0m \n",
       "timer/replay.add_count \u001b[1;36m301\u001b[0m \u001b[34m/\u001b[0m timer/replay.add_total \u001b[1;36m0.03\u001b[0m \u001b[34m/\u001b[0m timer/replay.add_frac \u001b[1;36m2.2e-4\u001b[0m \u001b[34m/\u001b[0m timer/replay.add_avg \n",
       "\u001b[1;36m9.2e-5\u001b[0m \u001b[34m/\u001b[0m timer/replay.add_min \u001b[1;36m3.9e-5\u001b[0m \u001b[34m/\u001b[0m timer/replay.add_max \u001b[1;36m5.9e-4\u001b[0m \u001b[34m/\u001b[0m timer/logger.write_count \u001b[1;36m1\u001b[0m \u001b[34m/\u001b[0m \n",
       "timer/logger.write_total \u001b[1;36m0.02\u001b[0m \u001b[34m/\u001b[0m timer/logger.write_frac \u001b[1;36m1.5e-4\u001b[0m \u001b[34m/\u001b[0m timer/logger.write_avg \u001b[1;36m0.02\u001b[0m \u001b[34m/\u001b[0m \n",
       "timer/logger.write_min \u001b[1;36m0.02\u001b[0m \u001b[34m/\u001b[0m timer/logger.write_max \u001b[1;36m0.02\u001b[0m \u001b[34m/\u001b[0m timer/checkpoint.save_count \u001b[1;36m1\u001b[0m \u001b[34m/\u001b[0m \n",
       "timer/checkpoint.save_total \u001b[1;36m6.1e-3\u001b[0m \u001b[34m/\u001b[0m timer/checkpoint.save_frac \u001b[1;36m4.7e-5\u001b[0m \u001b[34m/\u001b[0m timer/checkpoint.save_avg \u001b[1;36m6.1e-3\u001b[0m \u001b[34m/\u001b[0m \n",
       "timer/checkpoint.save_min \u001b[1;36m6.1e-3\u001b[0m \u001b[34m/\u001b[0m timer/checkpoint.save_max \u001b[1;36m6.1e-3\u001b[0m \u001b[34m/\u001b[0m timer/agent.save_count \u001b[1;36m1\u001b[0m \u001b[34m/\u001b[0m \n",
       "timer/agent.save_total \u001b[1;36m0.39\u001b[0m \u001b[34m/\u001b[0m timer/agent.save_frac \u001b[1;36m3e-3\u001b[0m \u001b[34m/\u001b[0m timer/agent.save_avg \u001b[1;36m0.39\u001b[0m \u001b[34m/\u001b[0m timer/agent.save_min \u001b[1;36m0.39\u001b[0m \u001b[34m/\u001b[0m \n",
       "timer/agent.save_max \u001b[1;36m0.39\u001b[0m \u001b[34m/\u001b[0m timer/replay.save_count \u001b[1;36m1\u001b[0m \u001b[34m/\u001b[0m timer/replay.save_total \u001b[1;36m1.9e-6\u001b[0m \u001b[34m/\u001b[0m timer/replay.save_frac \n",
       "\u001b[1;36m1.5e-8\u001b[0m \u001b[34m/\u001b[0m timer/replay.save_avg \u001b[1;36m1.9e-6\u001b[0m \u001b[34m/\u001b[0m timer/replay.save_min \u001b[1;36m1.9e-6\u001b[0m \u001b[34m/\u001b[0m timer/replay.save_max \u001b[1;36m1.9e-6\u001b[0m \u001b[34m/\u001b[0m \n",
       "timer/agent.policy_count \u001b[1;36m1\u001b[0m \u001b[34m/\u001b[0m timer/agent.policy_total \u001b[1;36m7.2\u001b[0m \u001b[34m/\u001b[0m timer/agent.policy_frac \u001b[1;36m0.06\u001b[0m \u001b[34m/\u001b[0m timer/agent.policy_avg \n",
       "\u001b[1;36m7.2\u001b[0m \u001b[34m/\u001b[0m timer/agent.policy_min \u001b[1;36m7.2\u001b[0m \u001b[34m/\u001b[0m timer/agent.policy_max \u001b[1;36m7.2\u001b[0m \u001b[34m/\u001b[0m timer/dataset_count \u001b[1;36m1\u001b[0m \u001b[34m/\u001b[0m timer/dataset_total \u001b[1;36m1.2e-4\u001b[0m \n",
       "\u001b[34m/\u001b[0m timer/dataset_frac \u001b[1;36m9e-7\u001b[0m \u001b[34m/\u001b[0m timer/dataset_avg \u001b[1;36m1.2e-4\u001b[0m \u001b[34m/\u001b[0m timer/dataset_min \u001b[1;36m1.2e-4\u001b[0m \u001b[34m/\u001b[0m timer/dataset_max \u001b[1;36m1.2e-4\u001b[0m \u001b[34m/\u001b[0m \n",
       "timer/agent.train_count \u001b[1;36m1\u001b[0m \u001b[34m/\u001b[0m timer/agent.train_total \u001b[1;36m107.16\u001b[0m \u001b[34m/\u001b[0m timer/agent.train_frac \u001b[1;36m0.83\u001b[0m \u001b[34m/\u001b[0m timer/agent.train_avg \n",
       "\u001b[1;36m107.16\u001b[0m \u001b[34m/\u001b[0m timer/agent.train_min \u001b[1;36m107.16\u001b[0m \u001b[34m/\u001b[0m timer/agent.train_max \u001b[1;36m107.16\u001b[0m \u001b[34m/\u001b[0m timer/agent.report_count \u001b[1;36m1\u001b[0m \u001b[34m/\u001b[0m \n",
       "timer/agent.report_total \u001b[1;36m13.92\u001b[0m \u001b[34m/\u001b[0m timer/agent.report_frac \u001b[1;36m0.11\u001b[0m \u001b[34m/\u001b[0m timer/agent.report_avg \u001b[1;36m13.92\u001b[0m \u001b[34m/\u001b[0m \n",
       "timer/agent.report_min \u001b[1;36m13.92\u001b[0m \u001b[34m/\u001b[0m timer/agent.report_max \u001b[1;36m13.92\u001b[0m\n"
      ]
     },
     "metadata": {},
     "output_type": "display_data"
    },
    {
     "name": "stdout",
     "output_type": "stream",
     "text": [
      "\n",
      "Episode has 12 steps and return -4.0.\n",
      "Episode has 12 steps and return -12.0.\n",
      "Episode has 12 steps and return -10.0.\n",
      "Episode has 12 steps and return -10.0.\n",
      "Episode has 12 steps and return -12.0.\n",
      "Episode has 12 steps and return -12.0.\n",
      "Episode has 12 steps and return -10.0.\n",
      "Episode has 12 steps and return -10.0.\n",
      "Episode has 12 steps and return -8.0.\n",
      "Episode has 12 steps and return -10.0.\n",
      "Episode has 12 steps and return -6.0.\n",
      "Episode has 12 steps and return -12.0.\n",
      "Episode has 12 steps and return -8.0.\n",
      "Episode has 12 steps and return -10.0.\n",
      "Episode has 12 steps and return -12.0.\n"
     ]
    },
    {
     "data": {
      "text/html": [
       "<pre style=\"white-space:pre;overflow-x:auto;line-height:normal;font-family:Menlo,'DejaVu Sans Mono',consolas,'Courier New',monospace\"><span style=\"color: #00ff00; text-decoration-color: #00ff00\">──────────────────────────────────────────────────── </span><span style=\"color: #008000; text-decoration-color: #008000; font-weight: bold\">Step </span><span style=\"color: #008000; text-decoration-color: #008000; font-weight: bold\">489</span><span style=\"color: #00ff00; text-decoration-color: #00ff00\"> ─────────────────────────────────────────────────────</span>\n",
       "</pre>\n"
      ],
      "text/plain": [
       "\u001b[92m──────────────────────────────────────────────────── \u001b[0m\u001b[1;32mStep \u001b[0m\u001b[1;32m489\u001b[0m\u001b[92m ─────────────────────────────────────────────────────\u001b[0m\n"
      ]
     },
     "metadata": {},
     "output_type": "display_data"
    },
    {
     "data": {
      "text/html": [
       "<pre style=\"white-space:pre;overflow-x:auto;line-height:normal;font-family:Menlo,'DejaVu Sans Mono',consolas,'Courier New',monospace\">episode/length <span style=\"color: #008080; text-decoration-color: #008080; font-weight: bold\">12</span> <span style=\"color: #000080; text-decoration-color: #000080\">/</span> episode/score <span style=\"color: #008080; text-decoration-color: #008080; font-weight: bold\">-12</span> <span style=\"color: #000080; text-decoration-color: #000080\">/</span> episode/sum_abs_reward <span style=\"color: #008080; text-decoration-color: #008080; font-weight: bold\">12</span> <span style=\"color: #000080; text-decoration-color: #000080\">/</span> episode/reward_rate <span style=\"color: #008080; text-decoration-color: #008080; font-weight: bold\">0.92</span>\n",
       "</pre>\n"
      ],
      "text/plain": [
       "episode/length \u001b[1;36m12\u001b[0m \u001b[34m/\u001b[0m episode/score \u001b[1;36m-12\u001b[0m \u001b[34m/\u001b[0m episode/sum_abs_reward \u001b[1;36m12\u001b[0m \u001b[34m/\u001b[0m episode/reward_rate \u001b[1;36m0.92\u001b[0m\n"
      ]
     },
     "metadata": {},
     "output_type": "display_data"
    },
    {
     "name": "stdout",
     "output_type": "stream",
     "text": [
      "\n"
     ]
    }
   ],
   "source": [
    "embodied.run.train(agent, env, replay, logger, args)\n"
   ]
  },
  {
   "cell_type": "code",
   "execution_count": 10,
   "metadata": {},
   "outputs": [],
   "source": [
    "class MiniDriver:\n",
    "\n",
    "  _CONVERSION = {\n",
    "      np.floating: np.float32,\n",
    "      np.signedinteger: np.int32,\n",
    "      np.uint8: np.uint8,\n",
    "      bool: bool,\n",
    "  }\n",
    "\n",
    "  def __init__(self, env, **policy_kwargs):\n",
    "    assert len(env) > 0\n",
    "    self._env = env\n",
    "    self._policy_kwargs = policy_kwargs\n",
    "    self._on_steps = []\n",
    "    self._on_episodes = []\n",
    "    self._im_hist = []\n",
    "    self._acts_hist = []\n",
    "    self.reset()\n",
    "\n",
    "  def reset(self):\n",
    "    self._acts = {\n",
    "        k: convert(np.zeros((len(self._env),) + v.shape, v.dtype))\n",
    "        for k, v in self._env.act_space.items()}\n",
    "    self._acts['reset'] = np.ones(len(self._env), bool)\n",
    "    self._eps = [collections.defaultdict(list) for _ in range(len(self._env))]\n",
    "    self._state = None\n",
    "    del self._im_hist[:]\n",
    "    del self._acts_hist[:]\n",
    "\n",
    "  def on_step(self, callback):\n",
    "    self._on_steps.append(callback)\n",
    "\n",
    "  def on_episode(self, callback):\n",
    "    self._on_episodes.append(callback)\n",
    "\n",
    "  def __call__(self, policy, wm, steps=0, episodes=0):\n",
    "    step, episode = 0, 0\n",
    "    while step < steps or episode < episodes:\n",
    "      step, episode = self._step(policy, wm, step, episode)\n",
    "\n",
    "  def _step(self, policy, wm, step, episode):\n",
    "    assert all(len(x) == len(self._env) for x in self._acts.values())\n",
    "    # take current action\n",
    "    # acts has keys 'action', 'reset'\n",
    "    acts = {k: v for k, v in self._acts.items() if not k.startswith('log_')}\n",
    "    obs = self._env.step(acts)\n",
    "    obs = {k: convert(v) for k, v in obs.items()}\n",
    "    # obs keys are:\n",
    "    # reward, is_first, is_last, local_window, is_terminal, observation\n",
    "    self._im_hist.append(obs['local_window'][0, :, :, :])\n",
    "    assert all(len(x) == len(self._env) for x in obs.values()), obs\n",
    "    # sample a new action\n",
    "    acts, self._state = policy(obs, self._state, **self._policy_kwargs)\n",
    "    acts = {k: convert(v) for k, v in acts.items()}\n",
    "    # acts['action'] is shape [1, 4]\n",
    "    self._acts_hist.append(np.argmax(acts['action'][0, :]))\n",
    "    if obs['is_last'].any():\n",
    "      mask = 1 - obs['is_last']\n",
    "      acts = {k: v * self._expand(mask, len(v.shape)) for k, v in acts.items()}\n",
    "    acts['reset'] = obs['is_last'].copy()\n",
    "    self._acts = acts\n",
    "    trns = {**obs, **acts}\n",
    "    if obs['is_first'].any():\n",
    "      for i, first in enumerate(obs['is_first']):\n",
    "        if first:\n",
    "          self._eps[i].clear()\n",
    "    for i in range(len(self._env)):\n",
    "      trn = {k: v[i] for k, v in trns.items()}\n",
    "      [self._eps[i][k].append(v) for k, v in trn.items()]\n",
    "      step += 1\n",
    "    if obs['is_last'].any():\n",
    "      for i, done in enumerate(obs['is_last']):\n",
    "        if done:\n",
    "          ep = {k: convert(v) for k, v in self._eps[i].items()}\n",
    "          episode += 1\n",
    "    return step, episode\n",
    "\n",
    "  def _expand(self, value, dims):\n",
    "    while len(value.shape) < dims:\n",
    "      value = value[..., None]\n",
    "    return value\n",
    "\n"
   ]
  },
  {
   "cell_type": "code",
   "execution_count": 9,
   "metadata": {},
   "outputs": [],
   "source": [
    "driver = MiniDriver(env)\n",
    "policy = lambda *args: agent.policy(*args, mode='train')\n",
    "wm = agent.agent.wm"
   ]
  },
  {
   "cell_type": "code",
   "execution_count": 11,
   "metadata": {},
   "outputs": [],
   "source": [
    "driver(policy, wm, steps=12, episodes=1)"
   ]
  },
  {
   "cell_type": "code",
   "execution_count": 45,
   "metadata": {},
   "outputs": [
    {
     "data": {
      "image/png": "[encoded data removed]",
      "text/plain": [
       "<Figure size 2860x220 with 13 Axes>"
      ]
     },
     "metadata": {},
     "output_type": "display_data"
    }
   ],
   "source": [
    "T = len(driver._im_hist)\n",
    "idx2action = {0: \"up\", 1: \"right\", 2: \"down\", 3: \"left\"}\n",
    "fig, axs = plt.subplots(1, T, figsize=(T * 2.2, 2.2))\n",
    "for ax in axs:\n",
    "  ax.axis('off')\n",
    "\n",
    "for t in range(len(driver._im_hist)):\n",
    "  axs[t].imshow(driver._im_hist[t], cmap='gray')\n",
    "  axs[t].set_title(f\"t={t}, action={idx2action[driver._acts_hist[t]]}\", fontsize=14)\n",
    "\n",
    "plt.tight_layout()\n",
    "plt.show()\n"
   ]
  },
  {
   "cell_type": "code",
   "execution_count": null,
   "metadata": {},
   "outputs": [],
   "source": []
  }
 ],
 "metadata": {
  "kernelspec": {
   "display_name": "jax_env",
   "language": "python",
   "name": "python3"
  },
  "language_info": {
   "codemirror_mode": {
    "name": "ipython",
    "version": 3
   },
   "file_extension": ".py",
   "mimetype": "text/x-python",
   "name": "python",
   "nbconvert_exporter": "python",
   "pygments_lexer": "ipython3",
   "version": "3.8.3"
  },
  "orig_nbformat": 4
 },
 "nbformat": 4,
 "nbformat_minor": 2
}
